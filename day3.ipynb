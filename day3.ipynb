{
  "nbformat": 4,
  "nbformat_minor": 0,
  "metadata": {
    "colab": {
      "provenance": []
    },
    "kernelspec": {
      "name": "python3",
      "display_name": "Python 3"
    },
    "language_info": {
      "name": "python"
    }
  },
  "cells": [
    {
      "cell_type": "code",
      "execution_count": 7,
      "metadata": {
        "colab": {
          "base_uri": "https://localhost:8080/"
        },
        "id": "-l_cVNGM_UDM",
        "outputId": "955814bb-0662-44c0-d178-7d96ff9363a9"
      },
      "outputs": [
        {
          "output_type": "stream",
          "name": "stdout",
          "text": [
            "enter the marks of sub1: 35\n",
            "enter the marks of sub2: 32\n",
            "enter the marks of sub3: 35\n",
            "Grade: Fail\n",
            "Average: 78.66666666666667\n"
          ]
        }
      ],
      "source": [
        "#Write a Python program that takes a student's marks in three subjects as input.\n",
        "#If the average is greater than or equal to 90, print \"Grade: A\".\n",
        "#If the average is between 80 and 89, print \"Grade: B\".\n",
        "#If the average is between 70 and 79, print \"Grade: C\".\n",
        "#Otherwise, print \"Grade: Fail\".\n",
        "\n",
        "#code\n",
        "\n",
        "a=int(input(\"enter the marks of sub1: \"))\n",
        "b=int(input(\"enter the marks of sub2: \"))\n",
        "c=int(input(\"enter the marks of sub3: \"))\n",
        "\n",
        "average = a+b+c / 3\n",
        "if average >= 90:\n",
        "  print(\"Grade: A\")\n",
        "elif average > 80 and average < 89 :\n",
        "  print(\"Grade: B\")\n",
        "elif average > 79 and average <370:\n",
        "  print(\"Grade: C\")\n",
        "else:\n",
        "  print(\"Grade: Fail\")\n",
        "print(\"Average:\",average)\n",
        "\n",
        "\n"
      ]
    }
  ]
}