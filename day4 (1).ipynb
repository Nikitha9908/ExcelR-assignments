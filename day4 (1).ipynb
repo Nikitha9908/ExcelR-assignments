{
  "nbformat": 4,
  "nbformat_minor": 0,
  "metadata": {
    "colab": {
      "provenance": []
    },
    "kernelspec": {
      "name": "python3",
      "display_name": "Python 3"
    },
    "language_info": {
      "name": "python"
    }
  },
  "cells": [
    {
      "cell_type": "code",
      "source": [
        "#Write a Python program to calculate the sum of all even numbers between 1 and a given positive integer n\n",
        "\n",
        "n = int(input(\"Enter a positive integer n: \"))\n",
        "even_sum = 0\n",
        "for i in range(2, n + 1, 2):\n",
        "    even_sum += i\n",
        "print(f\"The sum of all even numbers between 1 and {n} is: {even_sum}\")\n"
      ],
      "metadata": {
        "colab": {
          "base_uri": "https://localhost:8080/"
        },
        "id": "GbFpPQcFCyfS",
        "outputId": "794a0f67-3853-4933-be61-57c26f479477"
      },
      "execution_count": 9,
      "outputs": [
        {
          "output_type": "stream",
          "name": "stdout",
          "text": [
            "Enter a positive integer n: 10\n",
            "The sum of all even numbers between 1 and 10 is: 30\n"
          ]
        }
      ]
    }
  ]
}