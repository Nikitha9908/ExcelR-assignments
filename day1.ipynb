{
  "nbformat": 4,
  "nbformat_minor": 0,
  "metadata": {
    "colab": {
      "provenance": []
    },
    "kernelspec": {
      "name": "python3",
      "display_name": "Python 3"
    },
    "language_info": {
      "name": "python"
    }
  },
  "cells": [
    {
      "cell_type": "code",
      "execution_count": 1,
      "metadata": {
        "colab": {
          "base_uri": "https://localhost:8080/"
        },
        "id": "WXbsxXHy6DxH",
        "outputId": "40c25a0e-980c-4dd4-e59c-4bea1ceb1fb9"
      },
      "outputs": [
        {
          "output_type": "stream",
          "name": "stdout",
          "text": [
            "Integer Variable:\n",
            "Value: 42\n",
            "Type: <class 'int'>\n",
            "\n",
            "Float Variable:\n",
            "Value: 3.14\n",
            "Type: <class 'float'>\n",
            "\n",
            "String Variable:\n",
            "Value: Hello, World!\n",
            "Type: <class 'str'>\n",
            "\n",
            "Boolean Variable:\n",
            "Value: True\n",
            "Type: <class 'bool'>\n"
          ]
        }
      ],
      "source": [
        "# Declare variables of different data types\n",
        "integer_var = 42           # Integer\n",
        "float_var = 3.14           # Float\n",
        "string_var = \"Hello, World!\" # String\n",
        "boolean_var = True         # Boolean\n",
        "\n",
        "# Print each variable and its type\n",
        "print(\"Integer Variable:\")\n",
        "print(\"Value:\", integer_var)\n",
        "print(\"Type:\", type(integer_var))\n",
        "print()\n",
        "\n",
        "print(\"Float Variable:\")\n",
        "print(\"Value:\", float_var)\n",
        "print(\"Type:\", type(float_var))\n",
        "print()\n",
        "\n",
        "print(\"String Variable:\")\n",
        "print(\"Value:\", string_var)\n",
        "print(\"Type:\", type(string_var))\n",
        "print()\n",
        "\n",
        "print(\"Boolean Variable:\")\n",
        "print(\"Value:\", boolean_var)\n",
        "print(\"Type:\", type(boolean_var))\n"
      ]
    }
  ]
}