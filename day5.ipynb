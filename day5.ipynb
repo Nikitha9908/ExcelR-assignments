{
  "nbformat": 4,
  "nbformat_minor": 0,
  "metadata": {
    "colab": {
      "provenance": []
    },
    "kernelspec": {
      "name": "python3",
      "display_name": "Python 3"
    },
    "language_info": {
      "name": "python"
    }
  },
  "cells": [
    {
      "cell_type": "code",
      "execution_count": 1,
      "metadata": {
        "colab": {
          "base_uri": "https://localhost:8080/"
        },
        "id": "FZmcBiCTws4H",
        "outputId": "8858e94d-91d6-4f17-dd2e-11c3dfdd07b6"
      },
      "outputs": [
        {
          "output_type": "stream",
          "name": "stdout",
          "text": [
            "hello: 2\n",
            "world: 1\n",
            "everyone: 1\n",
            "this: 1\n",
            "is: 1\n",
            "a: 1\n",
            "simple: 1\n",
            "test: 1\n",
            "to: 1\n",
            "count: 1\n",
            "word: 1\n",
            "frequency: 1\n"
          ]
        }
      ],
      "source": [
        "\n",
        "#Write a Python program to calculate the frequency of each word in a given text. Print the words and their corresponding counts\n",
        "\n",
        "from collections import Counter\n",
        "import re\n",
        "\n",
        "def word_frequency(text):\n",
        "\n",
        "    words = re.findall(r'\\b\\w+\\b', text.lower())\n",
        "\n",
        "\n",
        "    word_count = Counter(words)\n",
        "\n",
        "\n",
        "    for word, count in word_count.items():\n",
        "        print(f'{word}: {count}')\n",
        "text = \"Hello world! Hello everyone. This is a simple test to count word frequency.\"\n",
        "word_frequency(text)\n"
      ]
    }
  ]
}