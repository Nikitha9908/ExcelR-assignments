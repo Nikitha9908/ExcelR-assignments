{
  "nbformat": 4,
  "nbformat_minor": 0,
  "metadata": {
    "colab": {
      "provenance": []
    },
    "kernelspec": {
      "name": "python3",
      "display_name": "Python 3"
    },
    "language_info": {
      "name": "python"
    }
  },
  "cells": [
    {
      "cell_type": "code",
      "source": [
        "import spacy\n",
        "import nltk\n",
        "from nltk.corpus import stopwords\n",
        "\n",
        "nltk.download('stopwords')\n",
        "nlp = spacy.load(\"en_core_web_sm\")\n",
        "\n",
        "def process_text(text):\n",
        "\n",
        "    text = text.lower()\n",
        "\n",
        "    doc = nlp(text)\n",
        "\n",
        "    stop_words = set(stopwords.words('english'))\n",
        "\n",
        "    filtered_words = [word.text for word in doc if word.text not in stop_words]\n",
        "\n",
        "    return \" \".join(filtered_words)\n",
        "\n",
        "text = \"This is an example sentence showing off the NLTK and spaCy functionality.\"\n",
        "processed_text = process_text(text)\n",
        "print(\"Processed Text:\", processed_text)\n"
      ],
      "metadata": {
        "colab": {
          "base_uri": "https://localhost:8080/"
        },
        "id": "a_u41uiVxlZL",
        "outputId": "85d72ca9-ea72-425b-de64-03c2a6682530"
      },
      "execution_count": 2,
      "outputs": [
        {
          "output_type": "stream",
          "name": "stderr",
          "text": [
            "[nltk_data] Downloading package stopwords to /root/nltk_data...\n",
            "[nltk_data]   Unzipping corpora/stopwords.zip.\n"
          ]
        },
        {
          "output_type": "stream",
          "name": "stdout",
          "text": [
            "Processed Text: example sentence showing nltk spacy functionality .\n"
          ]
        }
      ]
    }
  ]
}