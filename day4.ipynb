{
  "nbformat": 4,
  "nbformat_minor": 0,
  "metadata": {
    "colab": {
      "provenance": []
    },
    "kernelspec": {
      "name": "python3",
      "display_name": "Python 3"
    },
    "language_info": {
      "name": "python"
    }
  },
  "cells": [
    {
      "cell_type": "code",
      "source": [
        "#Write a Python program to calculate the sum of all even numbers between 1 and a given positive integer n\n",
        "\n",
        "n = int(input(\"Enter a positive integer n: \"))\n",
        "even_sum = 0\n",
        "for i in range(2, n + 1, 2):\n",
        "    even_sum += i\n",
        "print(f\"The sum of all even numbers between 1 and {n} is: {even_sum}\")\n"
      ],
      "metadata": {
        "id": "GbFpPQcFCyfS"
      },
      "execution_count": null,
      "outputs": []
    }
  ]
}