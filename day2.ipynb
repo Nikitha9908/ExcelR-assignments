{
  "nbformat": 4,
  "nbformat_minor": 0,
  "metadata": {
    "colab": {
      "provenance": []
    },
    "kernelspec": {
      "name": "python3",
      "display_name": "Python 3"
    },
    "language_info": {
      "name": "python"
    }
  },
  "cells": [
    {
      "cell_type": "code",
      "execution_count": 1,
      "metadata": {
        "colab": {
          "base_uri": "https://localhost:8080/"
        },
        "id": "Hdz7S1ur-b33",
        "outputId": "f6d69921-f6ab-4fe5-bba4-742c7aea5d7a"
      },
      "outputs": [
        {
          "output_type": "stream",
          "name": "stdout",
          "text": [
            "List: [10, 20, 30, 40, 50]\n",
            "Access elements from the list:\n",
            "First element: 10\n",
            "Third element: 30\n",
            "Last element: 50\n",
            "\n",
            "Tuple: ('apple', 'banana', 'cherry', 'date', 'elderberry')\n",
            "Access elements from the tuple:\n",
            "Second element: banana\n",
            "Fourth element: date\n",
            "Last element: elderberry\n",
            "\n",
            "Dictionary: {'name': 'Alice', 'age': 25, 'city': 'New York', 'country': 'USA', 'profession': 'Engineer'}\n",
            "Access elements from the dictionary:\n",
            "Name: Alice\n",
            "City: New York\n",
            "Profession: Engineer\n"
          ]
        }
      ],
      "source": [
        "my_list = [10, 20, 30, 40, 50]\n",
        "print(\"List:\", my_list)\n",
        "\n",
        "\n",
        "print(\"Access elements from the list:\")\n",
        "print(\"First element:\", my_list[0])\n",
        "print(\"Third element:\", my_list[2])\n",
        "print(\"Last element:\", my_list[-1])\n",
        "print()\n",
        "\n",
        "\n",
        "my_tuple = (\"apple\", \"banana\", \"cherry\", \"date\", \"elderberry\")\n",
        "print(\"Tuple:\", my_tuple)\n",
        "\n",
        "\n",
        "print(\"Access elements from the tuple:\")\n",
        "print(\"Second element:\", my_tuple[1])\n",
        "print(\"Fourth element:\", my_tuple[3])\n",
        "print(\"Last element:\", my_tuple[-1])\n",
        "print()\n",
        "\n",
        "my_dict = {\n",
        "    \"name\": \"Alice\",\n",
        "    \"age\": 25,\n",
        "    \"city\": \"New York\",\n",
        "    \"country\": \"USA\",\n",
        "    \"profession\": \"Engineer\"\n",
        "}\n",
        "print(\"Dictionary:\", my_dict)\n",
        "\n",
        "print(\"Access elements from the dictionary:\")\n",
        "print(\"Name:\", my_dict[\"name\"])\n",
        "print(\"City:\", my_dict[\"city\"])\n",
        "print(\"Profession:\", my_dict[\"profession\"])\n"
      ]
    }
  ]
}